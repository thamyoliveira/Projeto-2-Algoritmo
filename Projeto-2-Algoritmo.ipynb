{
  "cells": [
    {
      "metadata": {},
      "cell_type": "markdown",
      "source": "# </i><center>Projeto 2 - Apps<center></i>"
    },
    {
      "metadata": {},
      "cell_type": "markdown",
      "source": "</i> Nesse projeto, dentre tantos gêneros específicos escolhemos alguns para utilizar. Através do código abaixo foi feita uma filtragem e seleção de alguns apps classificados como uns dos melhores de seu gênero.</i>"
    },
    {
      "metadata": {
        "trusted": true
      },
      "cell_type": "code",
      "source": "#importa a biblioteca do pandas\nimport pandas",
      "execution_count": 6,
      "outputs": []
    },
    {
      "metadata": {},
      "cell_type": "markdown",
      "source": "</i></i>"
    },
    {
      "metadata": {
        "trusted": true
      },
      "cell_type": "code",
      "source": "#lê os dois arquivos csv\napp1 = pandas.read_csv('googleplaystore.csv',sep=',')\napp2 = pandas.read_csv('googleplaystore_user_reviews.csv')",
      "execution_count": 2,
      "outputs": []
    },
    {
      "metadata": {},
      "cell_type": "markdown",
      "source": "</i></i>"
    },
    {
      "metadata": {
        "trusted": true
      },
      "cell_type": "code",
      "source": "#filtra os topicos utilizados\napp1 = app1.filter(['App','Rating','Genres'])\n#print o arquivos filtrado\napp1.head()",
      "execution_count": 3,
      "outputs": [
        {
          "output_type": "execute_result",
          "execution_count": 3,
          "data": {
            "text/html": "<div>\n<style scoped>\n    .dataframe tbody tr th:only-of-type {\n        vertical-align: middle;\n    }\n\n    .dataframe tbody tr th {\n        vertical-align: top;\n    }\n\n    .dataframe thead th {\n        text-align: right;\n    }\n</style>\n<table border=\"1\" class=\"dataframe\">\n  <thead>\n    <tr style=\"text-align: right;\">\n      <th></th>\n      <th>App</th>\n      <th>Rating</th>\n      <th>Genres</th>\n    </tr>\n  </thead>\n  <tbody>\n    <tr>\n      <th>0</th>\n      <td>Photo Editor &amp; Candy Camera &amp; Grid &amp; ScrapBook</td>\n      <td>4.1</td>\n      <td>Art &amp; Design</td>\n    </tr>\n    <tr>\n      <th>1</th>\n      <td>Coloring book moana</td>\n      <td>3.9</td>\n      <td>Art &amp; Design;Pretend Play</td>\n    </tr>\n    <tr>\n      <th>2</th>\n      <td>U Launcher Lite – FREE Live Cool Themes, Hide ...</td>\n      <td>4.7</td>\n      <td>Art &amp; Design</td>\n    </tr>\n    <tr>\n      <th>3</th>\n      <td>Sketch - Draw &amp; Paint</td>\n      <td>4.5</td>\n      <td>Art &amp; Design</td>\n    </tr>\n    <tr>\n      <th>4</th>\n      <td>Pixel Draw - Number Art Coloring Book</td>\n      <td>4.3</td>\n      <td>Art &amp; Design;Creativity</td>\n    </tr>\n  </tbody>\n</table>\n</div>",
            "text/plain": "                                                 App  Rating  \\\n0     Photo Editor & Candy Camera & Grid & ScrapBook     4.1   \n1                                Coloring book moana     3.9   \n2  U Launcher Lite – FREE Live Cool Themes, Hide ...     4.7   \n3                              Sketch - Draw & Paint     4.5   \n4              Pixel Draw - Number Art Coloring Book     4.3   \n\n                      Genres  \n0               Art & Design  \n1  Art & Design;Pretend Play  \n2               Art & Design  \n3               Art & Design  \n4    Art & Design;Creativity  "
          },
          "metadata": {}
        }
      ]
    },
    {
      "metadata": {},
      "cell_type": "markdown",
      "source": "</i></i>"
    },
    {
      "metadata": {},
      "cell_type": "markdown",
      "source": "</i></i>"
    },
    {
      "metadata": {
        "trusted": true
      },
      "cell_type": "code",
      "source": "categorias = [\"Brain Games\", \"Communication\", \"Finance\", \"Medical\", \"Photography\", \"Dating\", \"Entertainment\", \"Education\", \"Arcade\", \"Shopping\"]\napp_ratings = app1.sort_values([\"Genres\", \"Rating\"], ascending = False)\ntops = app_ratings[app_ratings[\"Genres\"].isin(categorias)]\ntops = tops[tops[\"Rating\"].notnull()]\ntops = tops.groupby(\"Genres\").max()\ntops.columns = [ \"Aplicativo\", \"Avaliação\"]\ntops",
      "execution_count": 4,
      "outputs": [
        {
          "output_type": "execute_result",
          "execution_count": 4,
          "data": {
            "text/html": "<div>\n<style scoped>\n    .dataframe tbody tr th:only-of-type {\n        vertical-align: middle;\n    }\n\n    .dataframe tbody tr th {\n        vertical-align: top;\n    }\n\n    .dataframe thead th {\n        text-align: right;\n    }\n</style>\n<table border=\"1\" class=\"dataframe\">\n  <thead>\n    <tr style=\"text-align: right;\">\n      <th></th>\n      <th>Aplicativo</th>\n      <th>Avaliação</th>\n    </tr>\n    <tr>\n      <th>Genres</th>\n      <th></th>\n      <th></th>\n    </tr>\n  </thead>\n  <tbody>\n    <tr>\n      <th>Arcade</th>\n      <td>¡Ay Metro!</td>\n      <td>5.0</td>\n    </tr>\n    <tr>\n      <th>Communication</th>\n      <td>pretty Easy privacy p≡p</td>\n      <td>5.0</td>\n    </tr>\n    <tr>\n      <th>Dating</th>\n      <td>stranger chat - anonymous chat</td>\n      <td>5.0</td>\n    </tr>\n    <tr>\n      <th>Education</th>\n      <td>英漢字典 EC Dictionary</td>\n      <td>5.0</td>\n    </tr>\n    <tr>\n      <th>Entertainment</th>\n      <td>🔥 Football Wallpapers 4K | Full HD Backgrounds 😍</td>\n      <td>5.0</td>\n    </tr>\n    <tr>\n      <th>Finance</th>\n      <td>İşCep</td>\n      <td>5.0</td>\n    </tr>\n    <tr>\n      <th>Medical</th>\n      <td>tökr</td>\n      <td>5.0</td>\n    </tr>\n    <tr>\n      <th>Photography</th>\n      <td>love</td>\n      <td>5.0</td>\n    </tr>\n    <tr>\n      <th>Shopping</th>\n      <td>Šmelina .cz inzeráty inzerce</td>\n      <td>5.0</td>\n    </tr>\n  </tbody>\n</table>\n</div>",
            "text/plain": "                                                     Aplicativo  Avaliação\nGenres                                                                    \nArcade                                               ¡Ay Metro!        5.0\nCommunication                           pretty Easy privacy p≡p        5.0\nDating                           stranger chat - anonymous chat        5.0\nEducation                                    英漢字典 EC Dictionary        5.0\nEntertainment  🔥 Football Wallpapers 4K | Full HD Backgrounds 😍        5.0\nFinance                                                   İşCep        5.0\nMedical                                                    tökr        5.0\nPhotography                                                love        5.0\nShopping                           Šmelina .cz inzeráty inzerce        5.0"
          },
          "metadata": {}
        }
      ]
    },
    {
      "metadata": {},
      "cell_type": "markdown",
      "source": "</i>A tabela acima mostra que para cada gênero acima há um aplicativo com a melhor avaliação.</i>"
    }
  ],
  "metadata": {
    "kernelspec": {
      "name": "python36",
      "display_name": "Python 3.6",
      "language": "python"
    },
    "language_info": {
      "mimetype": "text/x-python",
      "nbconvert_exporter": "python",
      "name": "python",
      "pygments_lexer": "ipython3",
      "version": "3.6.6",
      "file_extension": ".py",
      "codemirror_mode": {
        "version": 3,
        "name": "ipython"
      }
    }
  },
  "nbformat": 4,
  "nbformat_minor": 2
}
